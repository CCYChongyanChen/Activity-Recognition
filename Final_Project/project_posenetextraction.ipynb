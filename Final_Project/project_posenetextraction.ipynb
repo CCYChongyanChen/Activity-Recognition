{
 "cells": [
  {
   "cell_type": "code",
   "execution_count": 1,
   "metadata": {
    "scrolled": true
   },
   "outputs": [
    {
     "name": "stdout",
     "output_type": "stream",
     "text": [
      "['{\"poses\":[{\"score\":0.2802326344176168,\"keypoints\":[{\"score\":0.9996294975280762,\"part\":\"nose\",\"position\":{\"x\":194.54272711081583,\"y\":397.61058553059894}},{\"score\":0.9998339414596558,\"part\":\"leftEye\",\"position\":{\"x\":241.179826079822,\"y\":365.5146006266276}},{\"score\":0.9998911619186401,\"part\":\"rightEye\",\"position\":{\"x\":162.70851760614116,\"y\":361.11236673990885}},{\"score\":0.920281171798706,\"part\":\"leftEar\",\"position\":{\"x\":295.52645924052257,\"y\":406.84566802978514}},{\"score\":0.8147780895233154,\"part\":\"rightEar\",\"position\":{\"x\":113.74478099385246,\"y\":394.8798400878906}},{\"score\":0.018541112542152405,\"part\":\"leftShoulder\",\"position\":{\"x\":304.94614873166944,\"y\":505.99721679687497}},{\"score\":0.0039927600882947445,\"part\":\"rightShoulder\",\"position\":{\"x\":66.82516473238586,\"y\":502.33002522786455}},{\"score\":0.0008188131032511592,\"part\":\"leftElbow\",\"position\":{\"x\":323.54512299084274,\"y\":493.7131815592448}},{\"score\":0.00025624630507081747,\"part\":\"rightElbow\",\"position\":{\"x\":42.4913610239498,\"y\":488.75278828938804}},{\"score\":0.0010389038361608982,\"part\":\"leftWrist\",\"position\":{\"x\":315.4059558305584,\"y\":492.8599355061849}},{\"score\":0.0021710118744522333,\"part\":\"rightWrist\",\"position\":{\"x\":102.36848424692623,\"y\":485.91656188964845}},{\"score\":0.0011753997532650828,\"part\":\"leftHip\",\"position\":{\"x\":258.7041585953509,\"y\":495.2766377766927}},{\"score\":0.00026859776698984206,\"part\":\"rightHip\",\"position\":{\"x\":79.04721119364754,\"y\":479.8165021260579}},{\"score\":0.00023933865304570645,\"part\":\"leftKnee\",\"position\":{\"x\":266.40148950795657,\"y\":484.52992197672523}},{\"score\":0.00028317607939243317,\"part\":\"rightKnee\",\"position\":{\"x\":77.16409051613729,\"y\":477.0216002146403}},{\"score\":0.00019368134962860495,\"part\":\"leftAnkle\",\"position\":{\"x\":255.59189192975154,\"y\":481.5704312642415}},{\"score\":0.0005618815193884075,\"part\":\"rightAnkle\",\"position\":{\"x\":85.4700987768955,\"y\":475.8626037597656}}]}],\"image\":{\"width\":640,\"height\":480}}', '{\"poses\":[{\"score\":0.28249634568997223,\"keypoints\":[{\"score\":0.9996086359024048,\"part\":\"nose\",\"position\":{\"x\":194.18574498911374,\"y\":397.34386088053384}},{\"score\":0.9998115301132202,\"part\":\"leftEye\",\"position\":{\"x\":240.7076050805264,\"y\":366.1565450032552}},{\"score\":0.9998600482940674,\"part\":\"rightEye\",\"position\":{\"x\":162.53098134525487,\"y\":359.3828491210937}},{\"score\":0.9275385737419128,\"part\":\"leftEar\",\"position\":{\"x\":294.9029701107838,\"y\":407.5015115102132}},{\"score\":0.8276987671852112,\"part\":\"rightEar\",\"position\":{\"x\":117.42823666431866,\"y\":394.9468037923177}},{\"score\":0.03005385212600231,\"part\":\"leftShoulder\",\"position\":{\"x\":306.54719268298544,\"y\":505.3072184244792}},{\"score\":0.004702829755842686,\"part\":\"rightShoulder\",\"position\":{\"x\":65.6285945704726,\"y\":503.10045369466144}},{\"score\":0.0011292219860479236,\"part\":\"leftElbow\",\"position\":{\"x\":322.08348808913934,\"y\":493.2873138427734}},{\"score\":0.00038858066545799375,\"part\":\"rightElbow\",\"position\":{\"x\":40.990121810162655,\"y\":491.7057749430339}},{\"score\":0.0049922410398721695,\"part\":\"leftWrist\",\"position\":{\"x\":301.862584848873,\"y\":488.53077290852866}},{\"score\":0.0025768086779862642,\"part\":\"rightWrist\",\"position\":{\"x\":104.56241995389345,\"y\":485.83863525390626}},{\"score\":0.0012637387262657285,\"part\":\"leftHip\",\"position\":{\"x\":257.6404148789703,\"y\":497.2145161946614}},{\"score\":0.0002486802695784718,\"part\":\"rightHip\",\"position\":{\"x\":79.57104892418033,\"y\":478.01666927337646}},{\"score\":0.0001998892257688567,\"part\":\"leftKnee\",\"position\":{\"x\":268.11816278051157,\"y\":486.6579233805339}},{\"score\":0.0005410825251601636,\"part\":\"rightKnee\",\"position\":{\"x\":112.30424824699027,\"y\":480.5334348042806}},{\"score\":0.00018960372835863382,\"part\":\"leftAnkle\",\"position\":{\"x\":257.4792640560963,\"y\":480.9208157857259}},{\"score\":0.0016337927663698792,\"part\":\"rightAnkle\",\"position\":{\"x\":110.64704970062756,\"y\":479.1546100616455}}]}],\"image\":{\"width\":640,\"height\":480}}', '{\"poses\":[{\"score\":0.2824765849740395,\"keypoints\":[{\"score\":0.9996833205223083,\"part\":\"nose\",\"position\":{\"x\":196.41136794793803,\"y\":396.49623514811196}},{\"score\":0.999805212020874,\"part\":\"leftEye\",\"position\":{\"x\":241.29288420129996,\"y\":366.4722493489583}},{\"score\":0.9998874664306641,\"part\":\"rightEye\",\"position\":{\"x\":161.8861834416624,\"y\":361.20469462076824}},{\"score\":0.937121570110321,\"part\":\"leftEar\",\"position\":{\"x\":295.044201460041,\"y\":408.2696015675863}},{\"score\":0.8197983503341675,\"part\":\"rightEar\",\"position\":{\"x\":118.66398245389345,\"y\":397.3581115722656}},{\"score\":0.026434704661369324,\"part\":\"leftShoulder\",\"position\":{\"x\":305.9400019411181,\"y\":504.18825683593747}},{\"score\":0.004339513834565878,\"part\":\"rightShoulder\",\"position\":{\"x\":70.60384656562181,\"y\":504.70204264322916}},{\"score\":0.0011113588698208332,\"part\":\"leftElbow\",\"position\":{\"x\":321.96454757940575,\"y\":492.9304473876953}},{\"score\":0.0007291330839507282,\"part\":\"rightElbow\",\"position\":{\"x\":71.39007268186475,\"y\":487.92938944498695}},{\"score\":0.0013077824842184782,\"part\":\"leftWrist\",\"position\":{\"x\":314.44431192366807,\"y\":492.0689270019531}},{\"score\":0.0035149233881384134,\"part\":\"rightWrist\",\"position\":{\"x\":103.38264440317623,\"y\":485.3814320882161}},{\"score\":0.0012333400081843138,\"part\":\"leftHip\",\"position\":{\"x\":257.61654412941857,\"y\":497.23354085286456}},{\"score\":0.000380376965040341,\"part\":\"rightHip\",\"position\":{\"x\":79.3119426789831,\"y\":479.31670939127605}},{\"score\":0.00022397653083316982,\"part\":\"leftKnee\",\"position\":{\"x\":268.799946300319,\"y\":485.376735941569}},{\"score\":0.0015515274135395885,\"part\":\"rightKnee\",\"position\":{\"x\":108.79061289302639,\"y\":480.1458541870117}},{\"score\":0.00017068865417968482,\"part\":\"leftAnkle\",\"position\":{\"x\":258.1503255875384,\"y\":482.22733917236326}},{\"score\":0.004808699246495962,\"part\":\"rightAnkle\",\"position\":{\"x\":106.97160564485144,\"y\":481.8205940246582}}]}],\"image\":{\"width\":640,\"height\":480}}']\n"
     ]
    }
   ],
   "source": [
    "import json\n",
    "import numpy as np\n",
    "pose =('pose_data.json')\n",
    "with open ('pose_data.json', 'rt') as in_file:  # Open file lorem.txt for reading of text data.\n",
    "    for line in in_file: # Store each line in a string variable \"line\"\n",
    "        print(line)"
   ]
  },
  {
   "cell_type": "code",
   "execution_count": 29,
   "metadata": {
    "scrolled": true
   },
   "outputs": [
    {
     "name": "stdout",
     "output_type": "stream",
     "text": [
      "split\n",
      "5766\n",
      "starti\n",
      "2\n",
      "7\n",
      "end = 1924\n",
      "range = 2\n",
      "counter = 0\n",
      "start_debg\n",
      "counter = 1\n",
      "range1 = 2\n",
      "4\n",
      "start\n",
      "1930\n",
      "start = 1928\n",
      "slide = 1933\n",
      "end = 3846\n",
      "start_debg\n",
      "counter = 2\n",
      "range1 = 2\n",
      "4\n",
      "start\n",
      "3852\n",
      "start = 3850\n",
      "slide = 3855\n",
      "countr is equal to range1\n",
      "final_f\n",
      "length of the final array is = 3\n",
      "[['{\"poses\":[{\"score\":0.2802326344176168,\"keypoints\":[{\"score\":0.9996294975280762,\"part\":\"nose\",\"position\":{\"x\":194.54272711081583,\"y\":397.61058553059894}},{\"score\":0.9998339414596558,\"part\":\"leftEye\",\"position\":{\"x\":241.179826079822,\"y\":365.5146006266276}},{\"score\":0.9998911619186401,\"part\":\"rightEye\",\"position\":{\"x\":162.70851760614116,\"y\":361.11236673990885}},{\"score\":0.920281171798706,\"part\":\"leftEar\",\"position\":{\"x\":295.52645924052257,\"y\":406.84566802978514}},{\"score\":0.8147780895233154,\"part\":\"rightEar\",\"position\":{\"x\":113.74478099385246,\"y\":394.8798400878906}},{\"score\":0.018541112542152405,\"part\":\"leftShoulder\",\"position\":{\"x\":304.94614873166944,\"y\":505.99721679687497}},{\"score\":0.0039927600882947445,\"part\":\"rightShoulder\",\"position\":{\"x\":66.82516473238586,\"y\":502.33002522786455}},{\"score\":0.0008188131032511592,\"part\":\"leftElbow\",\"position\":{\"x\":323.54512299084274,\"y\":493.7131815592448}},{\"score\":0.00025624630507081747,\"part\":\"rightElbow\",\"position\":{\"x\":42.4913610239498,\"y\":488.75278828938804}},{\"score\":0.0010389038361608982,\"part\":\"leftWrist\",\"position\":{\"x\":315.4059558305584,\"y\":492.8599355061849}},{\"score\":0.0021710118744522333,\"part\":\"rightWrist\",\"position\":{\"x\":102.36848424692623,\"y\":485.91656188964845}},{\"score\":0.0011753997532650828,\"part\":\"leftHip\",\"position\":{\"x\":258.7041585953509,\"y\":495.2766377766927}},{\"score\":0.00026859776698984206,\"part\":\"rightHip\",\"position\":{\"x\":79.04721119364754,\"y\":479.8165021260579}},{\"score\":0.00023933865304570645,\"part\":\"leftKnee\",\"position\":{\"x\":266.40148950795657,\"y\":484.52992197672523}},{\"score\":0.00028317607939243317,\"part\":\"rightKnee\",\"position\":{\"x\":77.16409051613729,\"y\":477.0216002146403}},{\"score\":0.00019368134962860495,\"part\":\"leftAnkle\",\"position\":{\"x\":255.59189192975154,\"y\":481.5704312642415}},{\"score\":0.0005618815193884075,\"part\":\"rightAnkle\",\"position\":{\"x\":85.4700987768955,\"y\":475.8626037597656}}]}],\"image\":{\"width\":640,\"height\":480}}']\n",
      " ['{\"poses\":[{\"score\":0.28249634568997223,\"keypoints\":[{\"score\":0.9996086359024048,\"part\":\"nose\",\"position\":{\"x\":194.18574498911374,\"y\":397.34386088053384}},{\"score\":0.9998115301132202,\"part\":\"leftEye\",\"position\":{\"x\":240.7076050805264,\"y\":366.1565450032552}},{\"score\":0.9998600482940674,\"part\":\"rightEye\",\"position\":{\"x\":162.53098134525487,\"y\":359.3828491210937}},{\"score\":0.9275385737419128,\"part\":\"leftEar\",\"position\":{\"x\":294.9029701107838,\"y\":407.5015115102132}},{\"score\":0.8276987671852112,\"part\":\"rightEar\",\"position\":{\"x\":117.42823666431866,\"y\":394.9468037923177}},{\"score\":0.03005385212600231,\"part\":\"leftShoulder\",\"position\":{\"x\":306.54719268298544,\"y\":505.3072184244792}},{\"score\":0.004702829755842686,\"part\":\"rightShoulder\",\"position\":{\"x\":65.6285945704726,\"y\":503.10045369466144}},{\"score\":0.0011292219860479236,\"part\":\"leftElbow\",\"position\":{\"x\":322.08348808913934,\"y\":493.2873138427734}},{\"score\":0.00038858066545799375,\"part\":\"rightElbow\",\"position\":{\"x\":40.990121810162655,\"y\":491.7057749430339}},{\"score\":0.0049922410398721695,\"part\":\"leftWrist\",\"position\":{\"x\":301.862584848873,\"y\":488.53077290852866}},{\"score\":0.0025768086779862642,\"part\":\"rightWrist\",\"position\":{\"x\":104.56241995389345,\"y\":485.83863525390626}},{\"score\":0.0012637387262657285,\"part\":\"leftHip\",\"position\":{\"x\":257.6404148789703,\"y\":497.2145161946614}},{\"score\":0.0002486802695784718,\"part\":\"rightHip\",\"position\":{\"x\":79.57104892418033,\"y\":478.01666927337646}},{\"score\":0.0001998892257688567,\"part\":\"leftKnee\",\"position\":{\"x\":268.11816278051157,\"y\":486.6579233805339}},{\"score\":0.0005410825251601636,\"part\":\"rightKnee\",\"position\":{\"x\":112.30424824699027,\"y\":480.5334348042806}},{\"score\":0.00018960372835863382,\"part\":\"leftAnkle\",\"position\":{\"x\":257.4792640560963,\"y\":480.9208157857259}},{\"score\":0.0016337927663698792,\"part\":\"rightAnkle\",\"position\":{\"x\":110.64704970062756,\"y\":479.1546100616455}}]}],\"image\":{\"width\":640,\"height\":480}}']\n",
      " ['{\"poses\":[{\"score\":0.2824765849740395,\"keypoints\":[{\"score\":0.9996833205223083,\"part\":\"nose\",\"position\":{\"x\":196.41136794793803,\"y\":396.49623514811196}},{\"score\":0.999805212020874,\"part\":\"leftEye\",\"position\":{\"x\":241.29288420129996,\"y\":366.4722493489583}},{\"score\":0.9998874664306641,\"part\":\"rightEye\",\"position\":{\"x\":161.8861834416624,\"y\":361.20469462076824}},{\"score\":0.937121570110321,\"part\":\"leftEar\",\"position\":{\"x\":295.044201460041,\"y\":408.2696015675863}},{\"score\":0.8197983503341675,\"part\":\"rightEar\",\"position\":{\"x\":118.66398245389345,\"y\":397.3581115722656}},{\"score\":0.026434704661369324,\"part\":\"leftShoulder\",\"position\":{\"x\":305.9400019411181,\"y\":504.18825683593747}},{\"score\":0.004339513834565878,\"part\":\"rightShoulder\",\"position\":{\"x\":70.60384656562181,\"y\":504.70204264322916}},{\"score\":0.0011113588698208332,\"part\":\"leftElbow\",\"position\":{\"x\":321.96454757940575,\"y\":492.9304473876953}},{\"score\":0.0007291330839507282,\"part\":\"rightElbow\",\"position\":{\"x\":71.39007268186475,\"y\":487.92938944498695}},{\"score\":0.0013077824842184782,\"part\":\"leftWrist\",\"position\":{\"x\":314.44431192366807,\"y\":492.0689270019531}},{\"score\":0.0035149233881384134,\"part\":\"rightWrist\",\"position\":{\"x\":103.38264440317623,\"y\":485.3814320882161}},{\"score\":0.0012333400081843138,\"part\":\"leftHip\",\"position\":{\"x\":257.61654412941857,\"y\":497.23354085286456}},{\"score\":0.000380376965040341,\"part\":\"rightHip\",\"position\":{\"x\":79.3119426789831,\"y\":479.31670939127605}},{\"score\":0.00022397653083316982,\"part\":\"leftKnee\",\"position\":{\"x\":268.799946300319,\"y\":485.376735941569}},{\"score\":0.0015515274135395885,\"part\":\"rightKnee\",\"position\":{\"x\":108.79061289302639,\"y\":480.1458541870117}},{\"score\":0.00017068865417968482,\"part\":\"leftAnkle\",\"position\":{\"x\":258.1503255875384,\"y\":482.22733917236326}},{\"score\":0.004808699246495962,\"part\":\"rightAnkle\",\"position\":{\"x\":106.97160564485144,\"y\":481.8205940246582}}]}],\"image\":{\"width\":640,\"height\":480}}\\']']]\n"
     ]
    }
   ],
   "source": [
    "print(\"split\")\n",
    "np.array(line)\n",
    "print(len(line))\n",
    " \n",
    "def find_between(s, first, last ):    \n",
    "    try:\n",
    "        starti = s.index(first) \n",
    "        starti=starti-2\n",
    "        print(\"starti\")\n",
    "        print(starti)\n",
    "        slide=starti + len(first)\n",
    "        print(slide)\n",
    "        #idx = nth_index(x, 'last', 4)\n",
    "        end = s.index(last,slide)\n",
    "        end=end-6\n",
    "        print(\"end = %0.1d\" %end)\n",
    "        final=np.array(s[starti:end])\n",
    "        #print(final) $$ print lateron\n",
    "        rangel=int(len(s)/end)\n",
    "        print(\"range = %1d\" % rangel)\n",
    "        for counter in range(0,(rangel+1)):\n",
    "                if counter==0:\n",
    "                    print(\"counter = %0.1d\" %counter)\n",
    "                    final_end = final\n",
    "                else:\n",
    "                    print(\"start_debg\")\n",
    "                    print(\"counter = %0.1d\" %counter)\n",
    "                    print(\"range1 = %0.1d\" %rangel)\n",
    "                    print(s.index(first))\n",
    "                    start = s.index(first, end)\n",
    "                    print(\"start\")\n",
    "                    print(start)\n",
    "                    start=start-2\n",
    "                    print(\"start = %0.1d\" %start)\n",
    "                    slide=start + len(first)\n",
    "                    print(\"slide = %0.1d\" %slide)\n",
    "                    if(counter == rangel):\n",
    "                        print(\"countr is equal to range1\")\n",
    "                        end=len(s)\n",
    "                    else:\n",
    "                        end = s.index(last,slide)\n",
    "                        end=end-6\n",
    "                        print(\"end = %0.1d\" %end)\n",
    "                    final=np.array(s[start:end])\n",
    "                    #print(final)\n",
    "                    final_end = np.vstack((final_end, final))        \n",
    "        return (final_end)      \n",
    "    except ValueError:\n",
    "        return \"\"\n",
    "\n",
    "final_f= np.array(find_between(line, \"poses\", \"poses\" ))\n",
    "print(\"final_f\")\n",
    "print(\"length of the final array is = %0.1d\" % (len(final_f)))\n",
    "print(final_f)"
   ]
  },
  {
   "cell_type": "code",
   "execution_count": null,
   "metadata": {},
   "outputs": [],
   "source": []
  },
  {
   "cell_type": "code",
   "execution_count": null,
   "metadata": {},
   "outputs": [],
   "source": []
  }
 ],
 "metadata": {
  "kernelspec": {
   "display_name": "Python 3",
   "language": "python",
   "name": "python3"
  },
  "language_info": {
   "codemirror_mode": {
    "name": "ipython",
    "version": 3
   },
   "file_extension": ".py",
   "mimetype": "text/x-python",
   "name": "python",
   "nbconvert_exporter": "python",
   "pygments_lexer": "ipython3",
   "version": "3.5.5"
  }
 },
 "nbformat": 4,
 "nbformat_minor": 2
}
